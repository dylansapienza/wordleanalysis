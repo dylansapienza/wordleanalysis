{
 "cells": [
  {
   "cell_type": "code",
   "execution_count": 2,
   "metadata": {},
   "outputs": [],
   "source": [
    "import pandas\n",
    "import random\n",
    "import numpy as np\n",
    "\n",
    "with open('valid_guesses.csv') as f:\n",
    "    guesses = f.read().splitlines()\n",
    "with open('valid_solutions.csv') as f:\n",
    "    solutions = f.read().splitlines()\n"
   ]
  },
  {
   "cell_type": "code",
   "execution_count": 3,
   "metadata": {},
   "outputs": [],
   "source": [
    "class LetterPos:\n",
    "    def __init__(self, letter, pos, gpos, perfect):\n",
    "        self.letter = letter\n",
    "        self.pos = pos\n",
    "        self.gpos = gpos\n",
    "        self.perfect = perfect\n",
    "\n",
    "class GameState:\n",
    "    def __init__(self):\n",
    "        self.guesses = []\n",
    "        self.solution = random.choice(solutions)\n",
    "        self.correct_letters = []\n",
    "        self.incorrect_letters = []\n",
    "        self.turn = 0\n",
    "\n",
    "    def output_turn(self):\n",
    "        if self.correct_letters[self.turn] is not None:\n",
    "            for i in range(len(self.correct_letters[self.turn])):\n",
    "                print(self.correct_letters[self.turn][i].letter)\n",
    "                print(self.correct_letters[self.turn][i].pos)\n",
    "                print(self.correct_letters[self.turn][i].perfect)\n",
    "\n",
    "    def pretty_output(self):\n",
    "        guess_result = list(\"⬛⬛⬛⬛⬛\")\n",
    "        if self.correct_letters[self.turn] is not None:\n",
    "            for i in range(len(self.correct_letters[self.turn])):\n",
    "                guess_result[self.correct_letters[self.turn][i].gpos] = \"🟩\" if self.correct_letters[self.turn][i].perfect else \"🟨\"\n",
    "        print(guess_result)"
   ]
  },
  {
   "cell_type": "code",
   "execution_count": 13,
   "metadata": {},
   "outputs": [],
   "source": [
    "def compare(game, guess, solution):\n",
    "    #compare the two words\n",
    "    guess_letters = list(guess)\n",
    "    solution_letters = list(solution)\n",
    "    print(solution_letters)\n",
    "    print(guess_letters)\n",
    "    \n",
    "    \n",
    "    correct_letters = []\n",
    "    incorrect_letters = []\n",
    "    #check for letter matches\n",
    "    for i in range(5):\n",
    "        for j in range(5):\n",
    "            if(solution_letters[i] == guess_letters[j]):\n",
    "                guess_grade = LetterPos(guess_letters[j], i, j, (i == j))\n",
    "                correct_letters.append(guess_grade)\n",
    "                break\n",
    "\n",
    "    #check for letter misses\n",
    "    for i in range(5):\n",
    "        if(guess_letters[i] not in solution_letters):\n",
    "            incorrect_letters.append(guess_letters[i])\n",
    "            \n",
    "    game.incorrect_letters = list(set(game.incorrect_letters + incorrect_letters))\n",
    "\n",
    "    #edge cases\n",
    "    #check for repeating LetterPos\n",
    "    #if two LetterPos classes have the same letter and pos pop one\n",
    "    # for i in range(len(correct_letters)):\n",
    "    #     for j in range(len(correct_letters)):\n",
    "    #         if(correct_letters[i].pos == correct_letters[j].pos and i != j):\n",
    "    #             correct_letters.pop(j)\n",
    "\n",
    "    #win condition\n",
    "    #check if the guess is perfect\n",
    "    if(len(correct_letters) == 5):\n",
    "        isPerfect = True\n",
    "        for i in range(len(correct_letters)):\n",
    "            if(correct_letters[i].perfect == False):\n",
    "                isPerfect = False\n",
    "        print(isPerfect)\n",
    "\n",
    "    \n",
    "    game.correct_letters.append(correct_letters)\n",
    "\n",
    "    "
   ]
  },
  {
   "cell_type": "code",
   "execution_count": 14,
   "metadata": {},
   "outputs": [],
   "source": [
    "#game loop\n",
    "def wordlegame():\n",
    "    game = GameState()\n",
    "    #randomly select a word from the list solutions\n",
    "    print(game.solution)\n",
    "    \n",
    "    for i in range(0, 6):\n",
    "        \n",
    "        # guess = random_guess()\n",
    "\n",
    "        guess = elimination_guess(game)\n",
    "\n",
    "\n",
    "\n",
    "\n",
    "        #compare the guess to the solution\n",
    "        compare(game, guess, game.solution)\n",
    "        game.pretty_output()\n",
    "        print(game.incorrect_letters)\n",
    "        game.turn += 1\n",
    "\n",
    "\n"
   ]
  },
  {
   "cell_type": "code",
   "execution_count": 17,
   "metadata": {},
   "outputs": [
    {
     "name": "stdout",
     "output_type": "stream",
     "text": [
      "louse\n",
      "['l', 'o', 'u', 's', 'e']\n",
      "['w', 'e', 'l', 's', 'h']\n",
      "['⬛', '🟨', '🟨', '🟩', '⬛']\n",
      "['h', 'w']\n",
      "['l', 'o', 'u', 's', 'e']\n",
      "['a', 'b', 'a', 't', 'e']\n",
      "['⬛', '⬛', '⬛', '⬛', '🟩']\n",
      "['t', 'a', 'b', 'h', 'w']\n",
      "['l', 'o', 'u', 's', 'e']\n",
      "['p', 'r', 'i', 'm', 'e']\n",
      "['⬛', '⬛', '⬛', '⬛', '🟩']\n",
      "['p', 'm', 't', 'a', 'b', 'i', 'h', 'r', 'w']\n",
      "['l', 'o', 'u', 's', 'e']\n",
      "['q', 'u', 'e', 'u', 'e']\n",
      "['⬛', '🟨', '🟨', '⬛', '⬛']\n",
      "['p', 'm', 't', 'a', 'b', 'i', 'h', 'r', 'q', 'w']\n",
      "['l', 'o', 'u', 's', 'e']\n",
      "['g', 'o', 'o', 's', 'e']\n",
      "['⬛', '🟩', '⬛', '🟩', '🟩']\n",
      "['g', 'p', 'm', 't', 'a', 'b', 'i', 'h', 'r', 'q', 'w']\n",
      "['l', 'o', 'u', 's', 'e']\n",
      "['e', 'x', 'c', 'e', 'l']\n",
      "['🟨', '⬛', '⬛', '⬛', '🟨']\n",
      "['g', 'p', 'm', 't', 'x', 'a', 'c', 'b', 'i', 'h', 'r', 'q', 'w']\n"
     ]
    }
   ],
   "source": [
    "wordlegame()"
   ]
  },
  {
   "cell_type": "code",
   "execution_count": 8,
   "metadata": {},
   "outputs": [],
   "source": [
    "def random_guess():\n",
    "    guess = random.choice(guesses)\n",
    "    return guess"
   ]
  },
  {
   "cell_type": "code",
   "execution_count": 7,
   "metadata": {},
   "outputs": [],
   "source": [
    "def elimination_guess(game):\n",
    "    possible_words = []\n",
    "\n",
    "\n",
    "    possible_words = [ele for ele in solutions if all(ch not in ele for ch in game.incorrect_letters)]\n",
    "\n",
    "    guess = random.choice(possible_words)\n",
    "    \n",
    "    return guess"
   ]
  },
  {
   "cell_type": "code",
   "execution_count": 270,
   "metadata": {},
   "outputs": [
    {
     "name": "stdout",
     "output_type": "stream",
     "text": [
      "weary\n"
     ]
    }
   ],
   "source": [
    "\n",
    "    "
   ]
  },
  {
   "cell_type": "code",
   "execution_count": null,
   "metadata": {},
   "outputs": [],
   "source": []
  }
 ],
 "metadata": {
  "interpreter": {
   "hash": "e7370f93d1d0cde622a1f8e1c04877d8463912d04d973331ad4851f04de6915a"
  },
  "kernelspec": {
   "display_name": "Python 3.8.10 64-bit",
   "language": "python",
   "name": "python3"
  },
  "language_info": {
   "codemirror_mode": {
    "name": "ipython",
    "version": 3
   },
   "file_extension": ".py",
   "mimetype": "text/x-python",
   "name": "python",
   "nbconvert_exporter": "python",
   "pygments_lexer": "ipython3",
   "version": "3.8.10"
  },
  "orig_nbformat": 4
 },
 "nbformat": 4,
 "nbformat_minor": 2
}
