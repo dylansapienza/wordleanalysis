{
 "cells": [
  {
   "cell_type": "code",
   "execution_count": 73,
   "metadata": {},
   "outputs": [],
   "source": [
    "import pandas\n",
    "import random\n",
    "import numpy as np\n",
    "#read the csv file and only column 'guesses'\n",
    "guesses = pandas.read_csv('valid_guesses.csv',usecols=['guesses'])\n",
    "solutions = pandas.read_csv('valid_solutions.csv',usecols=['solutions'])\n",
    "\n",
    "guesses = guesses.to_numpy()\n",
    "solutions = solutions.to_numpy()"
   ]
  },
  {
   "cell_type": "code",
   "execution_count": null,
   "metadata": {},
   "outputs": [],
   "source": []
  },
  {
   "cell_type": "code",
   "execution_count": 82,
   "metadata": {},
   "outputs": [],
   "source": [
    "class LetterPos:\n",
    "    def __init__(self, letter, pos, perfect):\n",
    "        self.letter = letter\n",
    "        self.pos = pos\n",
    "        self.perfect = perfect\n",
    "\n",
    "def compare(guess, solution):\n",
    "    #compare the two words\n",
    "    guess_letters = list(guess)\n",
    "    solution_letters = list(solution)\n",
    "    print(solution_letters)\n",
    "    print(guess_letters)\n",
    "    \n",
    "    \n",
    "    correct_letters = []\n",
    "\n",
    "    for i in range(4):\n",
    "        for j in range(4):\n",
    "            if(guess_letters[i] == solution_letters[j]):\n",
    "                guess_grade = LetterPos(guess_letters[i], j, (i == j))\n",
    "                correct_letters.append(guess_grade)\n",
    "    \n",
    "    #check if the guess is perfect\n",
    "    for i in range(len(correct_letters)):\n",
    "        if(correct_letters[i].perfect == False):\n",
    "            return correct_letters\n",
    "\n",
    "\n",
    "\n",
    "\n",
    "def wordlegame():\n",
    "    #randomly select a word from the list solutions\n",
    "    solution = random.choice(solutions)\n",
    "    solution = solution[0]\n",
    "    print(solution)\n",
    "\n",
    "    for i in range(0, 6):\n",
    "        #guess a word\n",
    "        guess = random.choice(guesses)\n",
    "        guess = guess[0]\n",
    "        print(guess)\n",
    "        print(compare(guess, solution))\n",
    "\n",
    "\n"
   ]
  },
  {
   "cell_type": "code",
   "execution_count": 83,
   "metadata": {},
   "outputs": [
    {
     "name": "stdout",
     "output_type": "stream",
     "text": [
      "vague\n",
      "winge\n",
      "['v', 'a', 'g', 'u', 'e']\n",
      "['w', 'i', 'n', 'g', 'e']\n",
      "[<__main__.LetterPos object at 0x7ff285729a30>]\n",
      "jambe\n",
      "['v', 'a', 'g', 'u', 'e']\n",
      "['j', 'a', 'm', 'b', 'e']\n",
      "None\n",
      "zoned\n",
      "['v', 'a', 'g', 'u', 'e']\n",
      "['z', 'o', 'n', 'e', 'd']\n",
      "None\n",
      "kutus\n",
      "['v', 'a', 'g', 'u', 'e']\n",
      "['k', 'u', 't', 'u', 's']\n",
      "[<__main__.LetterPos object at 0x7ff285729dc0>, <__main__.LetterPos object at 0x7ff285729e20>]\n",
      "punas\n",
      "['v', 'a', 'g', 'u', 'e']\n",
      "['p', 'u', 'n', 'a', 's']\n",
      "[<__main__.LetterPos object at 0x7ff2857290a0>, <__main__.LetterPos object at 0x7ff285729cd0>]\n",
      "fogey\n",
      "['v', 'a', 'g', 'u', 'e']\n",
      "['f', 'o', 'g', 'e', 'y']\n",
      "None\n"
     ]
    }
   ],
   "source": [
    "wordlegame()"
   ]
  },
  {
   "cell_type": "code",
   "execution_count": null,
   "metadata": {},
   "outputs": [],
   "source": []
  },
  {
   "cell_type": "code",
   "execution_count": null,
   "metadata": {},
   "outputs": [],
   "source": []
  }
 ],
 "metadata": {
  "interpreter": {
   "hash": "e7370f93d1d0cde622a1f8e1c04877d8463912d04d973331ad4851f04de6915a"
  },
  "kernelspec": {
   "display_name": "Python 3.8.10 64-bit",
   "language": "python",
   "name": "python3"
  },
  "language_info": {
   "codemirror_mode": {
    "name": "ipython",
    "version": 3
   },
   "file_extension": ".py",
   "mimetype": "text/x-python",
   "name": "python",
   "nbconvert_exporter": "python",
   "pygments_lexer": "ipython3",
   "version": "3.8.10"
  },
  "orig_nbformat": 4
 },
 "nbformat": 4,
 "nbformat_minor": 2
}
