{
 "cells": [
  {
   "cell_type": "code",
   "execution_count": 73,
   "metadata": {},
   "outputs": [],
   "source": [
    "import pandas\n",
    "import random\n",
    "import numpy as np\n",
    "#read the csv file and only column 'guesses'\n",
    "guesses = pandas.read_csv('valid_guesses.csv',usecols=['guesses'])\n",
    "solutions = pandas.read_csv('valid_solutions.csv',usecols=['solutions'])\n",
    "\n",
    "guesses = guesses.to_numpy()\n",
    "solutions = solutions.to_numpy()"
   ]
  },
  {
   "cell_type": "code",
   "execution_count": 165,
   "metadata": {},
   "outputs": [],
   "source": [
    "class LetterPos:\n",
    "    def __init__(self, letter, pos, gpos, perfect):\n",
    "        self.letter = letter\n",
    "        self.pos = pos\n",
    "        self.gpos = gpos\n",
    "        self.perfect = perfect\n",
    "\n",
    "class GameState:\n",
    "    def __init__(self):\n",
    "        self.guesses = []\n",
    "        self.solution = random.choice(solutions)[0] \n",
    "        self.correct_letters = []\n",
    "        self.incorrect_letters = []\n",
    "        self.turn = 0\n",
    "\n",
    "    def output_turn(self):\n",
    "        if self.correct_letters[self.turn] is not None:\n",
    "            for i in range(len(self.correct_letters[self.turn])):\n",
    "                print(self.correct_letters[self.turn][i].letter)\n",
    "                print(self.correct_letters[self.turn][i].pos)\n",
    "                print(self.correct_letters[self.turn][i].perfect)\n",
    "\n",
    "    def pretty_output(self):\n",
    "        guess_result = list(\"⬛⬛⬛⬛⬛\")\n",
    "        if self.correct_letters[self.turn] is not None:\n",
    "            for i in range(len(self.correct_letters[self.turn])):\n",
    "                guess_result[self.correct_letters[self.turn][i].gpos] = \"🟩\" if self.correct_letters[self.turn][i].perfect else \"🟨\"\n",
    "        print(guess_result)"
   ]
  },
  {
   "cell_type": "code",
   "execution_count": 166,
   "metadata": {},
   "outputs": [],
   "source": [
    "def compare(guess, solution):\n",
    "    #compare the two words\n",
    "    guess_letters = list(guess)\n",
    "    solution_letters = list(solution)\n",
    "    print(solution_letters)\n",
    "    print(guess_letters)\n",
    "    \n",
    "    \n",
    "    correct_letters = []\n",
    "\n",
    "    #check for letter matches\n",
    "    for i in range(5):\n",
    "        for j in range(5):\n",
    "            if(guess_letters[i] == solution_letters[j]):\n",
    "                guess_grade = LetterPos(guess_letters[i], j, i, (i == j))\n",
    "                correct_letters.append(guess_grade)\n",
    "    \n",
    "    #edge cases\n",
    "    #check for repeating LetterPos\n",
    "    if(len(correct_letters) > 2):\n",
    "        for i in range(len(correct_letters)):\n",
    "            for j in range(len(correct_letters)):\n",
    "                if(correct_letters[i].pos == correct_letters[j+1].pos):\n",
    "                    correct_letters.pop(j)\n",
    "\n",
    "    #win condition\n",
    "    #check if the guess is perfect\n",
    "    if(len(correct_letters) == 5):\n",
    "        isPerfect = True\n",
    "        for i in range(len(correct_letters)):\n",
    "            if(correct_letters[i].perfect == False):\n",
    "                isPerfect = False\n",
    "        print(isPerfect)\n",
    "\n",
    "    \n",
    "    return correct_letters\n",
    "\n",
    "    "
   ]
  },
  {
   "cell_type": "code",
   "execution_count": 167,
   "metadata": {},
   "outputs": [],
   "source": [
    "#game loop\n",
    "def wordlegame():\n",
    "    game = GameState()\n",
    "    #randomly select a word from the list solutions\n",
    "    print(game.solution)\n",
    "\n",
    "    for i in range(0, 6):\n",
    "        guess = random.choice(guesses)\n",
    "        guess = guess[0]\n",
    "        print(guess)\n",
    "        #compare the guess to the solution\n",
    "        game.correct_letters.append(compare(guess, game.solution))\n",
    "        game.pretty_output()\n",
    "        game.turn += 1\n",
    "\n",
    "\n"
   ]
  },
  {
   "cell_type": "code",
   "execution_count": 168,
   "metadata": {},
   "outputs": [
    {
     "name": "stdout",
     "output_type": "stream",
     "text": [
      "slang\n",
      "miffs\n",
      "['s', 'l', 'a', 'n', 'g']\n",
      "['m', 'i', 'f', 'f', 's']\n",
      "['🟨', '⬛', '⬛', '⬛', '⬛']\n",
      "ofter\n",
      "['s', 'l', 'a', 'n', 'g']\n",
      "['o', 'f', 't', 'e', 'r']\n",
      "tubas\n",
      "['s', 'l', 'a', 'n', 'g']\n",
      "['t', 'u', 'b', 'a', 's']\n",
      "['⬛', '⬛', '🟨', '⬛', '⬛']\n",
      "['🟨', '⬛', '🟨', '⬛', '⬛']\n",
      "bezes\n",
      "['s', 'l', 'a', 'n', 'g']\n",
      "['b', 'e', 'z', 'e', 's']\n",
      "['🟨', '⬛', '⬛', '⬛', '⬛']\n",
      "mieve\n",
      "['s', 'l', 'a', 'n', 'g']\n",
      "['m', 'i', 'e', 'v', 'e']\n",
      "teaed\n",
      "['s', 'l', 'a', 'n', 'g']\n",
      "['t', 'e', 'a', 'e', 'd']\n",
      "['⬛', '⬛', '🟩', '⬛', '⬛']\n"
     ]
    }
   ],
   "source": [
    "wordlegame()"
   ]
  },
  {
   "cell_type": "code",
   "execution_count": null,
   "metadata": {},
   "outputs": [],
   "source": []
  },
  {
   "cell_type": "code",
   "execution_count": null,
   "metadata": {},
   "outputs": [],
   "source": []
  }
 ],
 "metadata": {
  "interpreter": {
   "hash": "e7370f93d1d0cde622a1f8e1c04877d8463912d04d973331ad4851f04de6915a"
  },
  "kernelspec": {
   "display_name": "Python 3.8.10 64-bit",
   "language": "python",
   "name": "python3"
  },
  "language_info": {
   "codemirror_mode": {
    "name": "ipython",
    "version": 3
   },
   "file_extension": ".py",
   "mimetype": "text/x-python",
   "name": "python",
   "nbconvert_exporter": "python",
   "pygments_lexer": "ipython3",
   "version": "3.8.10"
  },
  "orig_nbformat": 4
 },
 "nbformat": 4,
 "nbformat_minor": 2
}
