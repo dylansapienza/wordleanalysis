{
 "cells": [
  {
   "cell_type": "code",
   "execution_count": 23,
   "metadata": {},
   "outputs": [],
   "source": [
    "import pandas\n",
    "import random\n",
    "import numpy as np\n",
    "import itertools\n",
    "\n",
    "with open('valid_guesses.csv') as f:\n",
    "    guesses = f.read().splitlines()\n",
    "with open('valid_solutions.csv') as f:\n",
    "    solutions = f.read().splitlines()\n"
   ]
  },
  {
   "cell_type": "code",
   "execution_count": 123,
   "metadata": {},
   "outputs": [],
   "source": [
    "class LetterPos:\n",
    "    def __init__(self, letter, pos, gpos, perfect):\n",
    "        self.letter = letter\n",
    "        self.pos = pos\n",
    "        self.gpos = gpos\n",
    "        self.perfect = perfect\n",
    "\n",
    "class GameState:\n",
    "    def __init__(self):\n",
    "        self.guesses = []\n",
    "        self.solution = random.choice(solutions)\n",
    "        self.correct_letters = []\n",
    "        self.incorrect_letters = []\n",
    "        self.turn = 0\n",
    "        self.state = True\n",
    "\n",
    "    def output_turn(self):\n",
    "        if self.correct_letters[self.turn] is not None:\n",
    "            for i in range(len(self.correct_letters[self.turn])):\n",
    "                print(self.correct_letters[self.turn][i].letter)\n",
    "                print(self.correct_letters[self.turn][i].pos)\n",
    "                print(self.correct_letters[self.turn][i].perfect)\n",
    "\n",
    "    def pretty_output(self):\n",
    "        guess_result = list(\"⬛⬛⬛⬛⬛\")\n",
    "        if self.correct_letters[self.turn] is not None:\n",
    "            for i in range(len(self.correct_letters[self.turn])):\n",
    "                guess_result[self.correct_letters[self.turn][i].gpos] = \"🟩\" if self.correct_letters[self.turn][i].perfect else \"🟨\"\n",
    "        print(''.join(guess_result))\n",
    "\n",
    "    def globalHints(self):\n",
    "        return list(itertools.chain(*self.correct_letters))\n",
    "\n",
    "    def nextTurn(self):\n",
    "        if self.turn < 5:\n",
    "            self.turn += 1\n",
    "        else:\n",
    "            self.state = False\n",
    "    \n",
    "    def endgame(self):\n",
    "        print(\"You won in : \" +  str(self.turn + 1))\n",
    "        self.state = False\n",
    "     "
   ]
  },
  {
   "cell_type": "code",
   "execution_count": 124,
   "metadata": {},
   "outputs": [],
   "source": [
    "def compare(game, guess, solution):\n",
    "    #compare the two words\n",
    "    print(guess)\n",
    "    guess_letters = list(guess)\n",
    "    solution_letters = list(solution)\n",
    "    \n",
    "    if(guess_letters == solution_letters):\n",
    "        print(\"🟩🟩🟩🟩🟩\")\n",
    "        game.endgame()\n",
    "        return\n",
    "    \n",
    "    \n",
    "    correct_letters = []\n",
    "    incorrect_letters = []\n",
    "    #check for letter matches\n",
    "    for i in range(5):\n",
    "        for j in range(5):\n",
    "            if(solution_letters[i] == guess_letters[j]):\n",
    "                guess_grade = LetterPos(guess_letters[j], i, j, (i == j))\n",
    "                correct_letters.append(guess_grade)\n",
    "                break\n",
    "\n",
    "    #check for letter misses\n",
    "    for i in range(5):\n",
    "        if(guess_letters[i] not in solution_letters):\n",
    "            incorrect_letters.append(guess_letters[i])\n",
    "            \n",
    "    game.incorrect_letters = list(set(game.incorrect_letters + incorrect_letters))\n",
    "\n",
    "    #edge cases\n",
    "    #check for repeating LetterPos\n",
    "    #if two LetterPos classes have the same letter and pos pop one\n",
    "    # for i in range(len(correct_letters)):\n",
    "    #     for j in range(len(correct_letters)):\n",
    "    #         if(correct_letters[i].pos == correct_letters[j].pos and i != j):\n",
    "    #             correct_letters.pop(j)\n",
    "\n",
    "    #win condition\n",
    "    #check if the guess is perfect\n",
    "    # if(len(correct_letters) == 5):\n",
    "    #     isPerfect = True\n",
    "    #     for i in range(len(correct_letters)):\n",
    "    #         if(correct_letters[i].perfect == False):\n",
    "    #             isPerfect = False\n",
    "    #     if(isPerfect):\n",
    "\n",
    "\n",
    "    \n",
    "    game.correct_letters.append(correct_letters)\n",
    "\n",
    "    "
   ]
  },
  {
   "cell_type": "code",
   "execution_count": 121,
   "metadata": {},
   "outputs": [],
   "source": [
    "#game loop\n",
    "def wordlegame():\n",
    "    game = GameState()\n",
    "    #randomly select a word from the list solutions\n",
    "    print(game.solution)\n",
    "    \n",
    "    while(game.state):\n",
    "        # guess = random_guess()\n",
    "\n",
    "        # guess = elimination_guess(game)\n",
    "\n",
    "        guess = kinda_smart(game)\n",
    "\n",
    "\n",
    "            #compare the guess to the solution\n",
    "        compare(game, guess, game.solution)\n",
    "        if(game.state):\n",
    "            game.pretty_output()\n",
    "            #print(game.incorrect_letters)\n",
    "            game.nextTurn()\n"
   ]
  },
  {
   "cell_type": "code",
   "execution_count": 125,
   "metadata": {},
   "outputs": [
    {
     "name": "stdout",
     "output_type": "stream",
     "text": [
      "guide\n",
      "force\n",
      "⬛⬛⬛⬛🟩\n",
      "['c', 'f', 'r', 'o']\n",
      "stave\n",
      "⬛⬛⬛⬛🟩\n",
      "['o', 'v', 't', 'a', 'c', 'f', 's', 'r']\n",
      "libel\n",
      "⬛🟨⬛🟨⬛\n",
      "['o', 'v', 't', 'a', 'l', 'c', 'f', 'b', 's', 'r']\n",
      "['e', 'e', 'i', 'e']\n",
      "index\n",
      "🟨⬛🟨🟨⬛\n",
      "['o', 'v', 't', 'x', 'l', 'a', 'c', 'n', 'f', 'b', 's', 'r']\n",
      "['e', 'e', 'i', 'e', 'i', 'd', 'e']\n",
      "guide\n",
      "🟩🟩🟩🟩🟩\n",
      "You won in : 5\n"
     ]
    }
   ],
   "source": [
    "wordlegame()"
   ]
  },
  {
   "cell_type": "code",
   "execution_count": 48,
   "metadata": {},
   "outputs": [],
   "source": [
    "def random_guess():\n",
    "    guess = random.choice(guesses)\n",
    "    return guess"
   ]
  },
  {
   "cell_type": "code",
   "execution_count": 7,
   "metadata": {},
   "outputs": [],
   "source": [
    "def elimination_guess(game):\n",
    "    possible_words = []\n",
    "\n",
    "\n",
    "    possible_words = [ele for ele in solutions if all(ch not in ele for ch in game.incorrect_letters)]\n",
    "\n",
    "    guess = random.choice(possible_words)\n",
    "    \n",
    "    return guess"
   ]
  },
  {
   "cell_type": "markdown",
   "metadata": {},
   "source": []
  },
  {
   "cell_type": "code",
   "execution_count": 46,
   "metadata": {},
   "outputs": [],
   "source": [
    "def kinda_smart(game):\n",
    "    #for the first 3 turns, guess words without incorrect letters\n",
    "    if(game.turn < 3):\n",
    "        guess = elimination_guess(game)\n",
    "        return guess\n",
    "    #for the next 3 guess words with the correct letters and without incorrect letters\n",
    "    else:\n",
    "    #process the correct letter objects, words must contain those letters (no positions) and no incorrect letters\n",
    "        correct_chars = []\n",
    "        correct_letters = game.globalHints()\n",
    "        for i in range(len(correct_letters)):\n",
    "            correct_chars.append(correct_letters[i].letter)\n",
    "        #print(correct_chars)\n",
    "\n",
    "        possible_words = [ele for ele in solutions if all(ch not in ele for ch in game.incorrect_letters)]\n",
    "        possible_solutions = [ele for ele in possible_words if all(ch in ele for ch in correct_chars)]\n",
    "\n",
    "        guess = random.choice(possible_solutions)\n",
    "        \n",
    "        return guess\n",
    "\n",
    "\n",
    "    "
   ]
  },
  {
   "cell_type": "code",
   "execution_count": null,
   "metadata": {},
   "outputs": [],
   "source": []
  },
  {
   "cell_type": "code",
   "execution_count": null,
   "metadata": {},
   "outputs": [],
   "source": []
  },
  {
   "cell_type": "code",
   "execution_count": null,
   "metadata": {},
   "outputs": [],
   "source": []
  }
 ],
 "metadata": {
  "interpreter": {
   "hash": "e7370f93d1d0cde622a1f8e1c04877d8463912d04d973331ad4851f04de6915a"
  },
  "kernelspec": {
   "display_name": "Python 3.8.10 64-bit",
   "language": "python",
   "name": "python3"
  },
  "language_info": {
   "codemirror_mode": {
    "name": "ipython",
    "version": 3
   },
   "file_extension": ".py",
   "mimetype": "text/x-python",
   "name": "python",
   "nbconvert_exporter": "python",
   "pygments_lexer": "ipython3",
   "version": "3.8.10"
  },
  "orig_nbformat": 4
 },
 "nbformat": 4,
 "nbformat_minor": 2
}
